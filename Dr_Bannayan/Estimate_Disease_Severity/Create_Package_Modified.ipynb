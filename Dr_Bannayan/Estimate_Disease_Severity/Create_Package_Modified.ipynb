{
 "cells": [
  {
   "cell_type": "code",
   "execution_count": null,
   "metadata": {},
   "outputs": [],
   "source": [
    "import numpy as np\n",
    "import pandas as pd\n",
    "\n",
    "# pip install EstimateDiseaseSeverity\n",
    "import EstimateDiseaseSeverity as eds \n",
    "\n",
    "\n",
    "\n",
    "required_para = eds.required_parameters(    \n",
    "    spray_number = [1, 2, 3],\n",
    "    spray_moment = [30, 45, 60],\n",
    "    spray_eff = [0.5, 0.5, 0.5],\n",
    "    \n",
    "    # for [\"Susceptible\", \"Moderate\", \"Resistant\"]\n",
    "    p_opt = [7, 10, 14],\n",
    "    rc_opt_par = [0.35, 0.25, 0.15],\n",
    "    rrlex_par = [0.1, 0.01, .0001]\n",
    ")\n",
    "\n",
    "\n",
    "\n",
    "result = eds.calculate_disease_severity(    \n",
    "    historical_data_path = \"data/final_corn.csv\",\n",
    "    model_origin = \"2018-12-31\",\n",
    "    add_year = True,\n",
    "    fields_to_run = None,\n",
    "    \n",
    "    crop_mechanistic = \"Corn\",\n",
    "    planting_date_list = [\"2019-01-20\"],\n",
    "    crop_parameters_path = \"data/Parameters_Corn.xlsx\",\n",
    "       \n",
    "    number_applications_list = [0, 1, 2, 3],\n",
    "    genetic_mechanistic_list = [\"Susceptible\", \"Moderate\", \"Resistant\"],\n",
    "    \n",
    "    required_para = required_para,\n",
    "    \n",
    "    path_result = \"result\"\n",
    ")\n",
    "\n",
    "\n",
    "result.sort_values(\n",
    "    by=[\"locationId\", \"NumberApplications\"]\n",
    ").to_csv(\"result/results.csv\", index=None)"
   ]
  }
 ],
 "metadata": {
  "interpreter": {
   "hash": "607ea3ad225f1db11c9983bb62cc199f3b470d54e6eaf6abbf6acb7b3c126f18"
  },
  "kernelspec": {
   "display_name": "Python 3.9.6 64-bit ('base': conda)",
   "name": "python3"
  },
  "language_info": {
   "codemirror_mode": {
    "name": "ipython",
    "version": 3
   },
   "file_extension": ".py",
   "mimetype": "text/x-python",
   "name": "python",
   "nbconvert_exporter": "python",
   "pygments_lexer": "ipython3",
   "version": "3.9.7"
  },
  "orig_nbformat": 4
 },
 "nbformat": 4,
 "nbformat_minor": 2
}
