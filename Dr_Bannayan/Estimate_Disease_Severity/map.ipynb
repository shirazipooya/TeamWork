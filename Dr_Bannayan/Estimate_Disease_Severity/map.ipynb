{
 "cells": [
  {
   "cell_type": "markdown",
   "metadata": {},
   "source": [
    "# Load Modules"
   ]
  },
  {
   "cell_type": "code",
   "execution_count": null,
   "metadata": {},
   "outputs": [],
   "source": [
    "import json\n",
    "import requests\n",
    "import urllib\n",
    "import warnings\n",
    "import pandas as pd\n",
    "import plotly.express as px\n",
    "import EDS as eds\n",
    "\n",
    "warnings.filterwarnings('ignore')"
   ]
  },
  {
   "cell_type": "markdown",
   "metadata": {},
   "source": [
    "# Define Function to Get FIPS from (lat, lon)"
   ]
  },
  {
   "cell_type": "code",
   "execution_count": null,
   "metadata": {},
   "outputs": [],
   "source": [
    "def find_fips(lat, lon):\n",
    "    \n",
    "    # Encode Parameters \n",
    "    params = urllib.parse.urlencode(\n",
    "        {\n",
    "            'latitude': lat,\n",
    "            'longitude':lon,\n",
    "            'format':'json'\n",
    "        }\n",
    "    )\n",
    "\n",
    "    # Get Response From API\n",
    "    response = requests.get('https://geo.fcc.gov/api/census/block/find?' + params)\n",
    "\n",
    "    # Parse json in Response\n",
    "    data = response.json()\n",
    "\n",
    "    return data['County']['FIPS']"
   ]
  },
  {
   "cell_type": "markdown",
   "metadata": {},
   "source": [
    "# Calculate Disease Severity"
   ]
  },
  {
   "cell_type": "code",
   "execution_count": null,
   "metadata": {},
   "outputs": [],
   "source": [
    "result = eds.calculate_disease_severity(    \n",
    "    data_path = \"Data.csv\",\n",
    "    info_path = \"Info.csv\",\n",
    "    number_of_repeat_year = 4,       \n",
    "    number_applications_list = [0],\n",
    "    genetic_mechanistic_list = [\"Susceptible\"],    \n",
    "    required_para = eds.required_parameters(),\n",
    "    output_columns = [\"SevMAX\"],   \n",
    "    path_result = None\n",
    ")\n",
    "\n",
    "result"
   ]
  },
  {
   "cell_type": "markdown",
   "metadata": {},
   "source": [
    "# Add FIPS to Results"
   ]
  },
  {
   "cell_type": "code",
   "execution_count": null,
   "metadata": {},
   "outputs": [],
   "source": [
    "result[\"FIPS\"] = result.apply(lambda x: find_fips(lat = x['latitude'], lon = x['longitude']), axis=1)\n",
    "\n",
    "result"
   ]
  },
  {
   "cell_type": "markdown",
   "metadata": {},
   "source": [
    "# Drop Duplicate FIPS & Select Maximum"
   ]
  },
  {
   "cell_type": "code",
   "execution_count": null,
   "metadata": {},
   "outputs": [],
   "source": [
    "result = result.sort_values([\"FIPS\", \"SevMAX\"]).drop_duplicates([\"FIPS\"], keep='last').reset_index(drop=True)"
   ]
  },
  {
   "cell_type": "markdown",
   "metadata": {},
   "source": [
    "# Load Geojson Counties"
   ]
  },
  {
   "cell_type": "code",
   "execution_count": null,
   "metadata": {},
   "outputs": [],
   "source": [
    "with urllib.request.urlopen(\"https://raw.githubusercontent.com/plotly/datasets/master/geojson-counties-fips.json\") as response:\n",
    "    counties = json.load(response)"
   ]
  },
  {
   "cell_type": "markdown",
   "metadata": {},
   "source": [
    "# Plot SevMAX"
   ]
  },
  {
   "cell_type": "code",
   "execution_count": null,
   "metadata": {},
   "outputs": [],
   "source": [
    "fig = px.choropleth_mapbox(\n",
    "    result, \n",
    "    geojson=counties, \n",
    "    locations='FIPS', \n",
    "    color='SevMAX',\n",
    "    color_continuous_scale=\"Viridis\",\n",
    "    mapbox_style=\"carto-positron\",\n",
    "    zoom=3,\n",
    "    center={\"lat\": 37.0902, \"lon\": -95.7129},\n",
    "    opacity=0.5,\n",
    ")\n",
    "\n",
    "fig.update_layout(\n",
    "    height=600,\n",
    "    margin={\"r\":0,\"t\":0,\"l\":0,\"b\":0}\n",
    ")\n",
    "\n",
    "fig.show()"
   ]
  }
 ],
 "metadata": {
  "interpreter": {
   "hash": "0fe83d4ca16b2d72a62bc969c3ccff6a4e2db2c152a7315511c56bb5df1ca6a1"
  },
  "kernelspec": {
   "display_name": "Python 3.9.12 ('base')",
   "language": "python",
   "name": "python3"
  },
  "language_info": {
   "codemirror_mode": {
    "name": "ipython",
    "version": 3
   },
   "file_extension": ".py",
   "mimetype": "text/x-python",
   "name": "python",
   "nbconvert_exporter": "python",
   "pygments_lexer": "ipython3",
   "version": "3.9.12"
  },
  "orig_nbformat": 4
 },
 "nbformat": 4,
 "nbformat_minor": 2
}
