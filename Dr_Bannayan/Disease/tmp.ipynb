{
 "cells": [
  {
   "cell_type": "code",
   "execution_count": null,
   "source": [
    "import pandas as pd\n",
    "\n",
    "historical = pd.read_csv(\n",
    "    \"./csv_files/Historical_Calculated_Data_Merged.csv\",\n",
    "    encoding=\"latin-1\",\n",
    "    index_col=0\n",
    ")\n",
    "\n",
    "aa = historical.loc[(historical[\"Area\"] == \"Breeding\") & (historical[\"Field\"] == \"SD02\")]\n",
    "\n",
    "\n",
    "print(aa.loc[:, ['precipitation', 'precipitation_severity']])\n"
   ],
   "outputs": [],
   "metadata": {}
  }
 ],
 "metadata": {
  "orig_nbformat": 4,
  "language_info": {
   "name": "python",
   "version": "3.9.6",
   "mimetype": "text/x-python",
   "codemirror_mode": {
    "name": "ipython",
    "version": 3
   },
   "pygments_lexer": "ipython3",
   "nbconvert_exporter": "python",
   "file_extension": ".py"
  },
  "kernelspec": {
   "name": "python3",
   "display_name": "Python 3.9.6 64-bit ('base': conda)"
  },
  "interpreter": {
   "hash": "607ea3ad225f1db11c9983bb62cc199f3b470d54e6eaf6abbf6acb7b3c126f18"
  }
 },
 "nbformat": 4,
 "nbformat_minor": 2
}